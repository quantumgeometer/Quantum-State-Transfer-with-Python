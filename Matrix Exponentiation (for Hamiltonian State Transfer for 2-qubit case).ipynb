{
 "cells": [
  {
   "cell_type": "code",
   "execution_count": 1,
   "metadata": {},
   "outputs": [],
   "source": [
    "import numpy as np\n",
    "from scipy import linalg\n",
    "import math\n",
    "from matplotlib import pyplot as plt\n",
    "from matplotlib.ticker import FuncFormatter, MultipleLocator"
   ]
  },
  {
   "cell_type": "markdown",
   "metadata": {},
   "source": [
    "Define ket vectors (zero, one) and identity $I$"
   ]
  },
  {
   "cell_type": "code",
   "execution_count": 2,
   "metadata": {},
   "outputs": [],
   "source": [
    "zero = np.array([1, 0])\n",
    "one = np.array([0, 1]) \n",
    "I = np.identity(2)"
   ]
  },
  {
   "cell_type": "markdown",
   "metadata": {},
   "source": [
    "Define Pauli Matrices."
   ]
  },
  {
   "cell_type": "code",
   "execution_count": 3,
   "metadata": {},
   "outputs": [],
   "source": [
    "p_x = np.array([[0.,  1.], [1.,  0.]])\n",
    "p_y = np.array([[0., -1j], [1j,  0.]])\n",
    "p_z = np.array([[1.,  0.], [0., -1.]])"
   ]
  },
  {
   "cell_type": "markdown",
   "metadata": {},
   "source": [
    "Define and check states for 2 qubit case. "
   ]
  },
  {
   "cell_type": "code",
   "execution_count": 4,
   "metadata": {},
   "outputs": [
    {
     "data": {
      "text/plain": [
       "(array([1, 0, 0, 0]),\n",
       " array([0, 1, 0, 0]),\n",
       " array([0, 0, 0, 1]),\n",
       " array([0, 0, 1, 0]))"
      ]
     },
     "execution_count": 4,
     "metadata": {},
     "output_type": "execute_result"
    }
   ],
   "source": [
    "state00= np.kron(zero,zero)\n",
    "state01= np.kron(zero,one)\n",
    "state11= np.kron(one, one)\n",
    "state10= np.kron(one, zero)\n",
    "\n",
    "state00, state01, state11, state10"
   ]
  },
  {
   "cell_type": "markdown",
   "metadata": {},
   "source": [
    "Define 2-qubit Quantum State Transfer Hamiltonian (Heisenberg Spin Chain) and check."
   ]
  },
  {
   "cell_type": "code",
   "execution_count": 5,
   "metadata": {},
   "outputs": [
    {
     "data": {
      "text/plain": [
       "array([[ 0.5+0.j,  0. +0.j,  0. +0.j,  0. +0.j],\n",
       "       [ 0. +0.j, -0.5+0.j,  1. +0.j,  0. +0.j],\n",
       "       [ 0. +0.j,  1. +0.j, -0.5+0.j,  0. +0.j],\n",
       "       [ 0. +0.j,  0. +0.j,  0. +0.j,  0.5+0.j]])"
      ]
     },
     "execution_count": 5,
     "metadata": {},
     "output_type": "execute_result"
    }
   ],
   "source": [
    "Hamiltonian = (np.kron(p_x,p_x) + np.kron(p_y,p_y) + np.kron(p_z,p_z))/2\n",
    "Hamiltonian"
   ]
  },
  {
   "cell_type": "markdown",
   "metadata": {},
   "source": [
    "Define unitary evolution and check if result is in expected form."
   ]
  },
  {
   "cell_type": "code",
   "execution_count": 6,
   "metadata": {},
   "outputs": [
    {
     "name": "stdout",
     "output_type": "stream",
     "text": [
      "[[1.64872127+0.j 0.        +0.j 0.        +0.j 0.        +0.j]\n",
      " [0.        +0.j 0.93592572+0.j 0.71279556+0.j 0.        +0.j]\n",
      " [0.        +0.j 0.71279556+0.j 0.93592572+0.j 0.        +0.j]\n",
      " [0.        +0.j 0.        +0.j 0.        +0.j 1.64872127+0.j]]\n"
     ]
    },
    {
     "data": {
      "text/plain": [
       "(4, 4)"
      ]
     },
     "execution_count": 6,
     "metadata": {},
     "output_type": "execute_result"
    }
   ],
   "source": [
    "unitary = linalg.expm(Hamiltonian)\n",
    "\n",
    "print(unitary)\n",
    "unitary.shape"
   ]
  },
  {
   "cell_type": "markdown",
   "metadata": {},
   "source": [
    "Define Time Evolution and check that at 0 we get identity."
   ]
  },
  {
   "cell_type": "code",
   "execution_count": 7,
   "metadata": {},
   "outputs": [
    {
     "data": {
      "text/plain": [
       "array([[1.+0.j, 0.+0.j, 0.+0.j, 0.+0.j],\n",
       "       [0.+0.j, 1.+0.j, 0.+0.j, 0.+0.j],\n",
       "       [0.+0.j, 0.+0.j, 1.+0.j, 0.+0.j],\n",
       "       [0.+0.j, 0.+0.j, 0.+0.j, 1.+0.j]])"
      ]
     },
     "execution_count": 7,
     "metadata": {},
     "output_type": "execute_result"
    }
   ],
   "source": [
    "def timeev(t):\n",
    "    return linalg.expm(-1j*Hamiltonian*t)\n",
    "\n",
    "timeev(0)"
   ]
  },
  {
   "cell_type": "markdown",
   "metadata": {},
   "source": [
    "Check initial time evolution for state $\\ket{10}$. "
   ]
  },
  {
   "cell_type": "code",
   "execution_count": 8,
   "metadata": {},
   "outputs": [
    {
     "data": {
      "text/plain": [
       "array([0.+0.j, 0.+0.j, 1.+0.j, 0.+0.j])"
      ]
     },
     "execution_count": 8,
     "metadata": {},
     "output_type": "execute_result"
    }
   ],
   "source": [
    "timeev(0)@state10\n"
   ]
  },
  {
   "cell_type": "markdown",
   "metadata": {},
   "source": [
    "Check at intervals, upto $\\pi/2$."
   ]
  },
  {
   "cell_type": "code",
   "execution_count": 9,
   "metadata": {},
   "outputs": [
    {
     "data": {
      "text/plain": [
       "array([0.        +0.j        , 0.07440084-0.37472276j,\n",
       "       0.90645258+0.17997527j, 0.        +0.j        ])"
      ]
     },
     "execution_count": 9,
     "metadata": {},
     "output_type": "execute_result"
    }
   ],
   "source": [
    "timeev(0.392)@state10"
   ]
  },
  {
   "cell_type": "code",
   "execution_count": 10,
   "metadata": {},
   "outputs": [
    {
     "data": {
      "text/plain": [
       "array([0.        +0.j        , 0.27036028-0.65307515j,\n",
       "       0.65359542+0.27057566j, 0.        +0.j        ])"
      ]
     },
     "execution_count": 10,
     "metadata": {},
     "output_type": "execute_result"
    }
   ],
   "source": [
    "timeev(0.785)@state10"
   ]
  },
  {
   "cell_type": "code",
   "execution_count": 11,
   "metadata": {},
   "outputs": [
    {
     "data": {
      "text/plain": [
       "array([0.        +0.j        , 0.40342268-0.73846026j,\n",
       "       0.47415988+0.25903472j, 0.        +0.j        ])"
      ]
     },
     "execution_count": 11,
     "metadata": {},
     "output_type": "execute_result"
    }
   ],
   "source": [
    "timeev(1)@state10"
   ]
  },
  {
   "cell_type": "code",
   "execution_count": 12,
   "metadata": {},
   "outputs": [
    {
     "data": {
      "text/plain": [
       "array([0.00000000e+00+0.00000000e+00j, 7.07106781e-01-7.07106781e-01j,\n",
       "       1.27810569e-16+1.43740670e-16j, 0.00000000e+00+0.00000000e+00j])"
      ]
     },
     "execution_count": 12,
     "metadata": {},
     "output_type": "execute_result"
    }
   ],
   "source": [
    "final = timeev(math.pi/2)@state10\n",
    "final "
   ]
  },
  {
   "cell_type": "markdown",
   "metadata": {},
   "source": [
    "Check fidelity."
   ]
  },
  {
   "cell_type": "code",
   "execution_count": 13,
   "metadata": {},
   "outputs": [
    {
     "name": "stdout",
     "output_type": "stream",
     "text": [
      "1.0\n"
     ]
    }
   ],
   "source": [
    "fidelity = abs(np.conjugate(state01.T)@final)\n",
    "print(round(fidelity, 4))"
   ]
  },
  {
   "cell_type": "markdown",
   "metadata": {},
   "source": [
    "As expected, state10 has transferred with full fidelity to state01 after one complete time evolution. We now plot the state transfer fidelity over time for the 2 qubit case. "
   ]
  },
  {
   "cell_type": "code",
   "execution_count": 14,
   "metadata": {},
   "outputs": [
    {
     "data": {
      "text/plain": [
       "Text(0.5, 1.0, 'State Transfer for 2-qubit case.')"
      ]
     },
     "execution_count": 14,
     "metadata": {},
     "output_type": "execute_result"
    },
    {
     "data": {
      "image/png": "[encoded data removed]",
      "text/plain": [
       "<Figure size 432x288 with 1 Axes>"
      ]
     },
     "metadata": {
      "needs_background": "light"
     },
     "output_type": "display_data"
    }
   ],
   "source": [
    "timeS=(math.pi)*np.arange(0,2,0.01)\n",
    "\n",
    "def fidelity(S,evS):\n",
    "    fidelity= abs(np.conjugate(S.T)@evS)\n",
    "    return fidelity\n",
    "f_list=[]\n",
    "\n",
    "for t in timeS:\n",
    "    evS=timeev(t)@state01\n",
    "    f=fidelity(state10,evS)\n",
    "    \n",
    "    f_list.append(f)\n",
    "\n",
    "f, ax=plt.subplots(1)\n",
    "    \n",
    "plt.plot(timeS, f_list)\n",
    "ax.xaxis.set_major_formatter(FuncFormatter(\n",
    "   lambda val,pos: '{:.0g}$\\pi$'.format(val/np.pi) if val !=0 else '0'\n",
    "))\n",
    "ax.xaxis.set_major_locator(MultipleLocator(base=np.pi))\n",
    "plt.xlabel(\"Time\")\n",
    "plt.ylabel(\"Fidelity of State Transfer\")\n",
    "plt.title('State Transfer for 2-qubit case.')"
   ]
  }
 ],
 "metadata": {
  "kernelspec": {
   "display_name": "Python 3",
   "language": "python",
   "name": "python3"
  },
  "language_info": {
   "codemirror_mode": {
    "name": "ipython",
    "version": 3
   },
   "file_extension": ".py",
   "mimetype": "text/x-python",
   "name": "python",
   "nbconvert_exporter": "python",
   "pygments_lexer": "ipython3",
   "version": "3.7.3"
  }
 },
 "nbformat": 4,
 "nbformat_minor": 2
}
